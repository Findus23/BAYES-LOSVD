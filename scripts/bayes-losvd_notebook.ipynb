{
 "cells": [
  {
   "cell_type": "markdown",
   "metadata": {},
   "source": [
    "# BAYES-LOSVD Notebook\n",
    "\n",
    "This is a simple jupyter notebook that will guide you through the usage of the code.  \n",
    "\n",
    "It consists on a number of steps:\n",
    "\n",
    "- **Step 1:** Compile codes\n",
    "- **Step 2:** Preprocess data  \n",
    "- **Step 3:** Run code\n",
    "- **Step 4:** Inspect results\n",
    "  \n",
    "  "
   ]
  },
  {
   "cell_type": "code",
   "execution_count": 1,
   "metadata": {},
   "outputs": [
    {
     "data": {
      "text/html": [
       "<style>\n",
       "table {float:left}\n",
       "</style>\n"
      ],
      "text/plain": [
       "<IPython.core.display.HTML object>"
      ]
     },
     "metadata": {},
     "output_type": "display_data"
    }
   ],
   "source": [
    "%%html\n",
    "<style>\n",
    "table {float:left}\n",
    "</style>"
   ]
  },
  {
   "cell_type": "markdown",
   "metadata": {},
   "source": [
    "## STEP 1: Compile Stan codes\n",
    "\n",
    "- This code will compile all the necessary Stan codes used in bayes-losvd_run.py.\n",
    "- Should you create your own model, please run this routine again. \n",
    "- It will automatically detect the new Stan code and it will compile it."
   ]
  },
  {
   "cell_type": "code",
   "execution_count": 2,
   "metadata": {},
   "outputs": [
    {
     "name": "stdout",
     "output_type": "stream",
     "text": [
      "===========================================\n",
      "               BAYES-LOSVD                 \n",
      "             (compile codes)               \n",
      "===========================================\n",
      "\n",
      "\n",
      "\n",
      "[ \u001b[0;33mRUNNING \u001b[0;39m] stan_model/bayes-losvd_model_GH_full_series.stan\n",
      "\n",
      "Using cached StanModel\n",
      "\n",
      "\n",
      "[ \u001b[0;32mDONE \u001b[0;39m] stan_model/bayes-losvd_model_GH_full_series.stan compiled.\n",
      "\n",
      "\n",
      "\n",
      "[ \u001b[0;33mRUNNING \u001b[0;39m] stan_model/bayes-losvd_model_Bsplines.stan\n",
      "\n",
      "Using cached StanModel\n",
      "\n",
      "\n",
      "[ \u001b[0;32mDONE \u001b[0;39m] stan_model/bayes-losvd_model_Bsplines.stan compiled.\n",
      "\n",
      "\n",
      "\n",
      "[ \u001b[0;33mRUNNING \u001b[0;39m] stan_model/bayes-losvd_ghfit.stan\n",
      "\n",
      "Using cached StanModel\n",
      "\n",
      "\n",
      "[ \u001b[0;32mDONE \u001b[0;39m] stan_model/bayes-losvd_ghfit.stan compiled.\n",
      "\n",
      "\n",
      "\n",
      "[ \u001b[0;33mRUNNING \u001b[0;39m] stan_model/bayes-losvd_model_SP.stan\n",
      "\n",
      "Using cached StanModel\n",
      "\n",
      "\n",
      "[ \u001b[0;32mDONE \u001b[0;39m] stan_model/bayes-losvd_model_SP.stan compiled.\n",
      "\n",
      "\n",
      "\n",
      "[ \u001b[0;33mRUNNING \u001b[0;39m] stan_model/bayes-losvd_model_RW.stan\n",
      "\n",
      "Using cached StanModel\n",
      "\n",
      "\n",
      "[ \u001b[0;32mDONE \u001b[0;39m] stan_model/bayes-losvd_model_RW.stan compiled.\n",
      "\n",
      "\n",
      "\n",
      "[ \u001b[0;33mRUNNING \u001b[0;39m] stan_model/bayes-losvd_model_AR.stan\n",
      "\n",
      "Using cached StanModel\n",
      "\n",
      "\n",
      "[ \u001b[0;32mDONE \u001b[0;39m] stan_model/bayes-losvd_model_AR.stan compiled.\n",
      "\n"
     ]
    }
   ],
   "source": [
    "run bayes-losvd_compile_codes.py"
   ]
  },
  {
   "cell_type": "markdown",
   "metadata": {},
   "source": [
    "## STEP 2: Preprocess data\n",
    "\n",
    "| Flag | Alt. flag      | Description                  | Options and default values |\n",
    "|------|----------------|------------------------------|----------------------------|\n",
    "| -c   | --config       | path to preproc configuration file | ../config_files/example_preproc.properties      |\n"
   ]
  },
  {
   "cell_type": "code",
   "execution_count": 5,
   "metadata": {},
   "outputs": [
    {
     "name": "stdout",
     "output_type": "stream",
     "text": [
      "===========================================\n",
      "               BAYES-LOSVD                 \n",
      "             (preproc_data)                \n",
      "===========================================\n",
      "\n",
      "\n",
      "\n",
      "[ \u001b[0;33mRUNNING \u001b[0;39m] NGC4550_SAURON\n",
      "\n",
      "--------------------------------------------\n",
      "- Input run name:   NGC4550_SAURON\n",
      "- Survey:           SAURON_E3D\n",
      "- Wavelength range: 4825.0-5300.0\n",
      "- Target SNR:       150.0\n",
      "- Min SNR:          3.0\n",
      "- Redshift:         0.00153\n",
      "- Velscale:         60.0\n",
      "- LOSVD Vmax:       700.0\n",
      "- Mask file:        emission_lines.mask\n",
      "- Pol. order:       5\n",
      "- Templates:        MILES_SSP\n",
      "- Number of PCA:    5\n",
      "--------------------------------------------\n",
      "\n",
      "# Processing data .....\n",
      "\n",
      " - Reading the data and basic info\n",
      "\n",
      " - Correcting data for redshift\n",
      "\n",
      " - Cutting data to desired wavelength range\n",
      "\n",
      " - Computing the SNR of each spaxel\n",
      "\n",
      " - Selecting spaxels aboove SNR_min\n",
      "\n",
      " - Computing the Voronoi binning\n",
      "   - 196 Voronoi bins required\n",
      "   - Applying the Voronoi binning\n"
     ]
    },
    {
     "data": {
      "application/vnd.jupyter.widget-view+json": {
       "model_id": "e925e96bb1cc42ef8f8a13daf478c45f",
       "version_major": 2,
       "version_minor": 0
      },
      "text/plain": [
       "HBox(children=(FloatProgress(value=0.0, description='Progress', layout=Layout(flex='2'), max=196.0, style=Prog…"
      ]
     },
     "metadata": {},
     "output_type": "display_data"
    },
    {
     "name": "stdout",
     "output_type": "stream",
     "text": [
      "\n",
      "\n",
      " - Log-rebinning and normalizing the spectra\n"
     ]
    },
    {
     "data": {
      "application/vnd.jupyter.widget-view+json": {
       "model_id": "4a82edc64e3244088f2df0980dcbf13b",
       "version_major": 2,
       "version_minor": 0
      },
      "text/plain": [
       "HBox(children=(FloatProgress(value=0.0, description='Progress', layout=Layout(flex='2'), max=196.0, style=Prog…"
      ]
     },
     "metadata": {},
     "output_type": "display_data"
    },
    {
     "name": "stdout",
     "output_type": "stream",
     "text": [
      "\n",
      "\n",
      " - Defining the data mask\n",
      "\n",
      " - Storing everything in data structure\n",
      "\n",
      "# Processing templates .....\n",
      "\n",
      " - Creating the LOSVD velocity vector\n",
      "\n",
      " - 636 templates found in MILES_SSP library\n",
      "\n",
      " - Loading and preparing the templates...\n"
     ]
    },
    {
     "data": {
      "application/vnd.jupyter.widget-view+json": {
       "model_id": "f2b804c424af4693b73978c1f0ed887d",
       "version_major": 2,
       "version_minor": 0
      },
      "text/plain": [
       "HBox(children=(FloatProgress(value=0.0, description='Progress', layout=Layout(flex='2'), max=636.0, style=Prog…"
      ]
     },
     "metadata": {},
     "output_type": "display_data"
    },
    {
     "name": "stdout",
     "output_type": "stream",
     "text": [
      "\n",
      "\n",
      " - Running PCA on the templates...\n",
      "  5 PCA components explain  99.884% of the variance in the input library\n",
      "\n",
      " - Convolving the templates to match the data's LSF\n"
     ]
    },
    {
     "data": {
      "application/vnd.jupyter.widget-view+json": {
       "model_id": "4b5eacbfb9ba4eb69773bf0f387e5436",
       "version_major": 2,
       "version_minor": 0
      },
      "text/plain": [
       "HBox(children=(FloatProgress(value=0.0, description='Progress', layout=Layout(flex='2'), max=5.0, style=Progre…"
      ]
     },
     "metadata": {},
     "output_type": "display_data"
    },
    {
     "name": "stdout",
     "output_type": "stream",
     "text": [
      "\n",
      "\n",
      " - Log-rebinning the templates\n",
      "\n",
      " - Storing everything in templates structure\n",
      "\n",
      "# Saving preproc data: ../preproc_data/NGC4550_SAURON.hdf5\n",
      "\n",
      "# Plotting some basic info in ../preproc_data/NGC4550_SAURON.pdf\n",
      "\n",
      "\n",
      "[ \u001b[0;32mDONE \u001b[0;39m] NGC4550_SAURON\n",
      "\n",
      "\n",
      "\n",
      "[ \u001b[0;33mRUNNING \u001b[0;39m] NGC4210_CALIFA\n",
      "\n",
      "--------------------------------------------\n",
      "- Input run name:   NGC4210_CALIFA\n",
      "- Survey:           CALIFA-V1200\n",
      "- Wavelength range: 3800.0-4550.0\n",
      "- Target SNR:       40.0\n",
      "- Min SNR:          3.0\n",
      "- Redshift:         0.00911\n",
      "- Velscale:         60.0\n",
      "- LOSVD Vmax:       700.0\n",
      "- Mask file:        emission_lines.mask\n",
      "- Pol. order:       7\n",
      "- Templates:        MILES_SSP\n",
      "- Number of PCA:    6\n",
      "--------------------------------------------\n",
      "\n",
      "# Processing data .....\n",
      "\n",
      " - Reading the data and basic info\n",
      "\n",
      " - Correcting data for redshift\n",
      "\n",
      " - Cutting data to desired wavelength range\n",
      "\n",
      " - Computing the SNR of each spaxel\n",
      "\n",
      " - Selecting spaxels aboove SNR_min\n",
      "\n",
      " - Computing the Voronoi binning\n",
      "   - 74 Voronoi bins required\n",
      "   - Applying the Voronoi binning\n"
     ]
    },
    {
     "data": {
      "application/vnd.jupyter.widget-view+json": {
       "model_id": "e243138056874540aec9e9999a26c297",
       "version_major": 2,
       "version_minor": 0
      },
      "text/plain": [
       "HBox(children=(FloatProgress(value=0.0, description='Progress', layout=Layout(flex='2'), max=74.0, style=Progr…"
      ]
     },
     "metadata": {},
     "output_type": "display_data"
    },
    {
     "name": "stdout",
     "output_type": "stream",
     "text": [
      "\n",
      "\n",
      " - Log-rebinning and normalizing the spectra\n"
     ]
    },
    {
     "data": {
      "application/vnd.jupyter.widget-view+json": {
       "model_id": "4a110c9fd3c54e19817040efbadc9448",
       "version_major": 2,
       "version_minor": 0
      },
      "text/plain": [
       "HBox(children=(FloatProgress(value=0.0, description='Progress', layout=Layout(flex='2'), max=74.0, style=Progr…"
      ]
     },
     "metadata": {},
     "output_type": "display_data"
    },
    {
     "name": "stdout",
     "output_type": "stream",
     "text": [
      "\n",
      "\n",
      " - Defining the data mask\n",
      "\n",
      " - Storing everything in data structure\n",
      "\n",
      "# Processing templates .....\n",
      "\n",
      " - Creating the LOSVD velocity vector\n",
      "\n",
      " - 636 templates found in MILES_SSP library\n",
      "\n",
      " - Loading and preparing the templates...\n"
     ]
    },
    {
     "data": {
      "application/vnd.jupyter.widget-view+json": {
       "model_id": "36313fe632b54c7a95773e1456098529",
       "version_major": 2,
       "version_minor": 0
      },
      "text/plain": [
       "HBox(children=(FloatProgress(value=0.0, description='Progress', layout=Layout(flex='2'), max=636.0, style=Prog…"
      ]
     },
     "metadata": {},
     "output_type": "display_data"
    },
    {
     "name": "stdout",
     "output_type": "stream",
     "text": [
      "\n",
      "\n",
      " - Running PCA on the templates...\n",
      "  6 PCA components explain  99.961% of the variance in the input library\n",
      "\n",
      " - Convolving the templates to match the data's LSF\n",
      "\n",
      "\n",
      "[ \u001b[0;36mWARNING \u001b[0;39m] Some values of the data LSF are below the templates values\n",
      "\n"
     ]
    },
    {
     "data": {
      "application/vnd.jupyter.widget-view+json": {
       "model_id": "9d6bb47aa2c64f0089f765a11abec49d",
       "version_major": 2,
       "version_minor": 0
      },
      "text/plain": [
       "HBox(children=(FloatProgress(value=0.0, description='Progress', layout=Layout(flex='2'), max=6.0, style=Progre…"
      ]
     },
     "metadata": {},
     "output_type": "display_data"
    },
    {
     "name": "stdout",
     "output_type": "stream",
     "text": [
      "\n",
      "\n",
      " - Log-rebinning the templates\n",
      "\n",
      " - Storing everything in templates structure\n",
      "\n",
      "# Saving preproc data: ../preproc_data/NGC4210_CALIFA.hdf5\n",
      "\n",
      "# Plotting some basic info in ../preproc_data/NGC4210_CALIFA.pdf\n",
      "\n",
      "\n",
      "[ \u001b[0;32mDONE \u001b[0;39m] NGC4210_CALIFA\n",
      "\n"
     ]
    }
   ],
   "source": [
    "run bayes-losvd_preproc_data.py -c ../config_files/example_preproc.properties"
   ]
  },
  {
   "cell_type": "markdown",
   "metadata": {},
   "source": [
    "## STEP 3: Run code\n",
    "\n",
    "| Flag | Alt. flag       | Description                                  | Options and default values |\n",
    "|------|-----------------|----------------------------------------------|----------------------------|\n",
    "| -f   | --preproc_file  | path to preproc preproc file                 | No default                 |\n",
    "| -i   | --niter         | number of iterationsto run in Stan           |    500       |\n",
    "| -c   | --nchain        | number of simultaneous chains to run in Stan |  1      |    \n",
    "| -b   | --bin           | bin IDs for spectra run                      |  all/odd/even/bin_list (comma separated bin list)      |    \n",
    "| -m   | --mask_bin      | bin IDs to ignore from bin list              |  None      |    \n",
    "| -t   | --fit_type      | type of fit                                  | see codes.properties file       |    \n",
    "| -n   | --njobs         | number of jobs (spectra) to run in parallel  |   1     |    \n",
    "| -v   | --verbose       | printing Stan summary for each fit           | 0=False or 1=True, Default: 0       |    \n",
    "| -s   | --save_chains   | save chain results for each fit              | 0=False or 1=True, Default: 0       |    \n",
    "| -p   | --save_plots    | save diagnostic plots                        | 0=False or 1=True, Default: 0      |    \n",
    "| -a   | --adapt_delta   | Stan Adapt_delta                             |  0.99      |    \n",
    "| -d   | --max_treedepth | Stan maximum tree depth                      | 18 |   \n",
    "\n",
    "\n"
   ]
  },
  {
   "cell_type": "code",
   "execution_count": 4,
   "metadata": {
    "collapsed": true
   },
   "outputs": [
    {
     "name": "stdout",
     "output_type": "stream",
     "text": [
      "===========================================\n",
      "               BAYES-LOSVD                 \n",
      "                  (run)                    \n",
      "===========================================\n",
      "\n",
      "# Selected bins: 0\n",
      "\n",
      "\n",
      "[ \u001b[0;33mRUNNING \u001b[0;39m] NGC4550_SAURON - Bin: 0 - Fit type: SP\n",
      "\n",
      "Using cached StanModel for stan_model/bayes-losvd_model_SP.stan\n",
      "\n",
      "# Saving Stan summary: ../results/NGC4550_SAURON-SP/NGC4550_SAURON-SP_Stan_summary_bin0.txt\n",
      "\n",
      "Inference for Stan model: anon_model_2a44c6d6be5ce9019f387951107a63da.\n",
      "1 chains, each with iter=500; warmup=250; thin=1; \n",
      "post-warmup draws per chain=250, total post-warmup draws=250.\n",
      "\n",
      "             mean se_mean     sd   2.5%    25%    50%    75%  97.5%  n_eff   Rhat\n",
      "losvd[1]   1.3e-3  8.3e-5 1.2e-3 4.6e-5 4.0e-4 1.0e-3 1.9e-3 4.2e-3    203    1.0\n",
      "losvd[2]   1.5e-3  7.2e-5 1.4e-3 3.3e-5 4.5e-4 9.6e-4 2.1e-3 5.5e-3    372    1.0\n",
      "losvd[3]   1.5e-3  1.0e-4 1.6e-3 2.9e-5 3.9e-4 1.0e-3 2.3e-3 5.3e-3    253    1.0\n",
      "losvd[4]   1.9e-3  1.1e-4 1.8e-3 4.6e-5 5.5e-4 1.3e-3 2.7e-3 6.5e-3    284    1.0\n",
      "losvd[5]   2.9e-3  1.4e-4 2.4e-3 7.8e-5 1.0e-3 2.2e-3 4.1e-3 9.0e-3    298    1.0\n",
      "losvd[6]   4.0e-3  1.9e-4 3.4e-3 7.8e-5 1.3e-3 3.3e-3 5.8e-3   0.01    334    1.0\n",
      "losvd[7]   5.2e-3  2.7e-4 4.7e-3 6.8e-5 1.6e-3 4.0e-3 7.3e-3   0.02    313    1.0\n",
      "losvd[8]   7.6e-3  3.7e-4 6.3e-3 3.8e-4 2.8e-3 5.8e-3   0.01   0.02    293    1.0\n",
      "losvd[9]     0.01  6.9e-4 8.3e-3 1.8e-4 4.0e-3 7.8e-3   0.01   0.03    145    1.0\n",
      "losvd[10]    0.03  9.1e-4   0.02 2.3e-3   0.01   0.02   0.04   0.06    350    1.0\n",
      "losvd[11]    0.07  2.5e-3   0.04 9.7e-3   0.04   0.07    0.1   0.15    247    1.0\n",
      "losvd[12]    0.22  3.3e-3   0.06    0.1   0.18   0.21   0.26   0.32    289    1.0\n",
      "losvd[13]    0.23  3.2e-3   0.06   0.11   0.19   0.23   0.27   0.38    393    1.0\n",
      "losvd[14]    0.21  3.3e-3   0.06   0.06   0.17   0.21   0.25   0.34    386    1.0\n",
      "losvd[15]    0.14  2.5e-3   0.05   0.04   0.11   0.14   0.17   0.22    333    1.0\n",
      "losvd[16]    0.03  1.8e-3   0.02 1.7e-3   0.01   0.03   0.05   0.09    179    1.0\n",
      "losvd[17]    0.01  7.4e-4 9.6e-3 4.6e-4 4.5e-3 9.9e-3   0.02   0.04    169    1.0\n",
      "losvd[18]  5.6e-3  3.3e-4 5.3e-3 1.5e-4 1.4e-3 4.0e-3 8.6e-3   0.02    262    1.0\n",
      "losvd[19]  3.7e-3  2.5e-4 3.7e-3 1.1e-4 1.1e-3 2.5e-3 5.0e-3   0.01    219    1.0\n",
      "losvd[20]  2.7e-3  1.6e-4 2.6e-3 1.9e-5 6.6e-4 1.9e-3 3.9e-3 9.6e-3    262    1.0\n",
      "losvd[21]  2.9e-3  2.1e-4 2.7e-3 9.5e-5 8.2e-4 2.1e-3 4.1e-3   0.01    168    1.0\n",
      "losvd[22]  3.1e-3  1.5e-4 2.8e-3 1.3e-4 1.1e-3 2.4e-3 4.2e-3   0.01    334    1.0\n",
      "losvd[23]  4.8e-3  2.4e-4 3.7e-3 2.7e-4 1.6e-3 3.9e-3 6.9e-3   0.01    229   1.01\n",
      "weights[1] 8.6e-3  8.4e-5 1.8e-3 5.0e-3 7.5e-3 8.5e-3   0.01   0.01    466    1.0\n",
      "weights[2]  -0.04  7.6e-5 1.7e-3  -0.05  -0.05  -0.04  -0.04  -0.04    476    1.0\n",
      "weights[3] 2.3e-3  5.6e-5 1.1e-3-1.5e-5 1.5e-3 2.2e-3 3.1e-3 4.5e-3    400    1.0\n",
      "weights[4]-1.5e-3  4.8e-5 7.9e-4-3.2e-3-2.0e-3-1.4e-3-9.1e-4-4.8e-5    278   1.01\n",
      "weights[5]-3.3e-3  4.4e-5 7.0e-4-4.6e-3-3.7e-3-3.3e-3-2.8e-3-1.9e-3    261    1.0\n",
      "coefs[1]   4.7e-3  2.2e-5 4.2e-4 3.8e-3 4.4e-3 4.7e-3 5.0e-3 5.5e-3    359    1.0\n",
      "coefs[2]     0.07  5.8e-5 8.5e-4   0.06   0.06   0.07   0.07   0.07    212   1.01\n",
      "coefs[3]   2.8e-3  7.8e-5 1.2e-3 6.8e-4 1.9e-3 2.8e-3 3.7e-3 5.4e-3    243    1.0\n",
      "coefs[4]  -2.2e-3  7.8e-5 1.3e-3-4.6e-3-3.1e-3-2.1e-3-1.4e-3 6.2e-4    288    1.0\n",
      "coefs[5]     0.01  4.6e-5 9.4e-4 9.5e-3   0.01   0.01   0.01   0.01    425    1.0\n",
      "coefs[6]  -7.9e-3  6.5e-5 1.1e-3  -0.01-8.7e-3-7.9e-3-7.2e-3-5.8e-3    293    1.0\n",
      "sigma        0.09  1.6e-3   0.02   0.07   0.08   0.09    0.1   0.14    136    1.0\n",
      "lp__       -217.0    0.49    4.6 -226.3 -220.2 -216.5 -213.5 -209.3     90    1.0\n",
      "\n",
      "Samples were drawn using NUTS at Sat Jun 27 12:19:55 2020.\n",
      "For each parameter, n_eff is a crude measure of effective sample size,\n",
      "and Rhat is the potential scale reduction factor on split chains (at \n",
      "convergence, Rhat=1).\n",
      "\n",
      "# Processing and saving results: ../results/NGC4550_SAURON-SP/NGC4550_SAURON-SP_results_bin0.hdf5\n",
      "\n",
      "# Deleting progress files\n",
      "\n",
      "\n",
      "[ \u001b[0;32mDONE \u001b[0;39m] NGC4550_SAURON - Bin: 0 - Fit type: SP\n",
      "\n",
      "\n",
      "# Packing all results into a single HDF5 file.\n",
      " - 1 files found.\n",
      " - Copying contents to output file\n",
      "\n",
      "\n",
      "[ \u001b[0;32mDONE \u001b[0;39m] ../results/NGC4550_SAURON-SP/NGC4550_SAURON-SP_results.hdf5 written.\n",
      "\n"
     ]
    }
   ],
   "source": [
    "run bayes-losvd_run.py -f ../preproc_data/NGC4550_SAURON.hdf5 -b 0 -t SP -v 1"
   ]
  },
  {
   "cell_type": "markdown",
   "metadata": {},
   "source": [
    "## STEP 4: Inspect results\n",
    "\n",
    "| Flag | Alt. flag      | Description                    | Options and default values  |\n",
    "|------|----------------|--------------------------------|-----------------------------|\n",
    "| -r   | --run          | run name with results          | No default                  |\n",
    "| -b   | --binID        | bin ID of the spectrum to plot | 0                           |\n",
    "| -l   | --losvd        | path to a LOSVD to add to plot | None                        |\n",
    "| -s   | --save         | save figure in results dir     | 0=False, 1=True, Default= 0 |\n",
    "| -n   | --norm         | nomalise LOSVD                 | 1                           |\n",
    "| -d   | --dir          | path to directory with results | ../results                  |\n"
   ]
  },
  {
   "cell_type": "code",
   "execution_count": 1,
   "metadata": {
    "collapsed": true
   },
   "outputs": [
    {
     "name": "stdout",
     "output_type": "stream",
     "text": [
      "===========================================\n",
      "               BAYES-LOSVD                 \n",
      "             (inspect_fits)                \n",
      "===========================================\n"
     ]
    },
    {
     "data": {
      "image/png": "[encoded data removed]",
      "text/plain": [
       "<Figure size 720x504 with 3 Axes>"
      ]
     },
     "metadata": {
      "needs_background": "light"
     },
     "output_type": "display_data"
    },
    {
     "name": "stdout",
     "output_type": "stream",
     "text": [
      "\n",
      "\n",
      "[ \u001b[0;32mDONE \u001b[0;39m] NGC4550_SAURON-SP - Bin: 0\n",
      "\n"
     ]
    }
   ],
   "source": [
    "run bayes-losvd_inspect_fits.py -r NGC4550_SAURON-SP -b 0"
   ]
  },
  {
   "cell_type": "code",
   "execution_count": null,
   "metadata": {},
   "outputs": [],
   "source": []
  }
 ],
 "metadata": {
  "kernelspec": {
   "display_name": "Python 3",
   "language": "python",
   "name": "python3"
  },
  "language_info": {
   "codemirror_mode": {
    "name": "ipython",
    "version": 3
   },
   "file_extension": ".py",
   "mimetype": "text/x-python",
   "name": "python",
   "nbconvert_exporter": "python",
   "pygments_lexer": "ipython3",
   "version": "3.6.10"
  }
 },
 "nbformat": 4,
 "nbformat_minor": 4
}
