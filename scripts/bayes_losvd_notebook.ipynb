{
 "cells": [
  {
   "cell_type": "markdown",
   "metadata": {},
   "source": [
    "# BAYES-LOSVD Notebook\n",
    "\n",
    "This is a simple jupyter notebook that will guide you through the usage of the code.  \n",
    "\n",
    "It consists on a number of steps:\n",
    "\n",
    "- **Step 1:** Compile codes\n",
    "- **Step 2:** Preprocess data  \n",
    "- **Step 3:** Run code\n",
    "- **Step 4:** Inspect results\n",
    "- **Step 5:** Loading results into dictionary\n",
    "- (Optional) **Step 6:** Run a GH fit to output LOSVD\n",
    "- (Optional) **Step 7:** Inspect GH fit results\n",
    "- (Optional) **Step 8:** Loading results into dictionary\n",
    "  "
   ]
  },
  {
   "cell_type": "code",
   "execution_count": null,
   "metadata": {},
   "outputs": [],
   "source": [
    "%%html\n",
    "<style>\n",
    "table {float:left}\n",
    "</style>"
   ]
  },
  {
   "cell_type": "markdown",
   "metadata": {},
   "source": [
    "## STEP 1: Compile Stan codes\n",
    "\n",
    "- This code will compile all the necessary Stan codes used in bayes-losvd_run.py.\n",
    "- Should you create your own model, please run this routine again. \n",
    "- It will automatically detect the new Stan code and it will compile it."
   ]
  },
  {
   "cell_type": "code",
   "execution_count": null,
   "metadata": {},
   "outputs": [],
   "source": [
    "run bayes_losvd_compile_codes.py"
   ]
  },
  {
   "cell_type": "markdown",
   "metadata": {},
   "source": [
    "## STEP 2: Preprocess data\n",
    "\n",
    "| Flag | Alt. flag      | Description                  | Options and default values |\n",
    "|------|----------------|------------------------------|----------------------------|\n",
    "| -c   | --config       | path to preproc configuration file | ../config_files/example_preproc.properties      |\n"
   ]
  },
  {
   "cell_type": "code",
   "execution_count": null,
   "metadata": {},
   "outputs": [],
   "source": [
    "run bayes_losvd_preproc_data.py -c ../config_files/example_preproc.properties"
   ]
  },
  {
   "cell_type": "markdown",
   "metadata": {},
   "source": [
    "## STEP 3: Run code\n",
    "\n",
    "| Flag | Alt. flag       | Description                                  | Options and default values |\n",
    "|------|-----------------|----------------------------------------------|----------------------------|\n",
    "| -f   | --preproc_file  | path to preproc preproc file                 | No default                 |\n",
    "| -i   | --niter         | number of iterationsto run in Stan           |    500       |\n",
    "| -c   | --nchain        | number of simultaneous chains to run in Stan |  1      |    \n",
    "| -b   | --bin           | bin IDs for spectra run                      |  all/odd/even/bin_list (comma separated bin list)      |    \n",
    "| -m   | --mask_bin      | bin IDs to ignore from bin list              |  None      |    \n",
    "| -t   | --fit_type      | type of fit                                  | see codes.properties file       |    \n",
    "| -n   | --njobs         | number of jobs (spectra) to run in parallel  |   1     |    \n",
    "| -v   | --verbose       | printing Stan summary for each fit           | 0=False or 1=True, Default: 0       |    \n",
    "| -s   | --save_chains   | save chain results for each fit              | 0=False or 1=True, Default: 0       |    \n",
    "| -p   | --save_plots    | save diagnostic plots                        | 0=False or 1=True, Default: 0      |    \n",
    "| -a   | --adapt_delta   | Stan Adapt_delta                             |  0.99      |    \n",
    "| -d   | --max_treedepth | Stan maximum tree depth                      | 18 |   \n",
    "\n",
    "\n"
   ]
  },
  {
   "cell_type": "code",
   "execution_count": null,
   "metadata": {},
   "outputs": [],
   "source": [
    "run bayes_losvd_run.py -f ../preproc_data/NGC4550_SAURON.hdf5 -b 0 -t SP -v 1"
   ]
  },
  {
   "cell_type": "markdown",
   "metadata": {},
   "source": [
    "## STEP 4: Inspect results\n",
    "\n",
    "| Flag | Alt. flag      | Description                    | Options and default values  |\n",
    "|------|----------------|--------------------------------|-----------------------------|\n",
    "| -r   | --run          | run name with results          | No default                  |\n",
    "| -b   | --binID        | bin ID of the spectrum to plot | 0                           |\n",
    "| -l   | --losvd        | path to a LOSVD to add to plot | None                        |\n",
    "| -s   | --save         | save figure in results dir     | 0=False, 1=True, Default= 0 |\n",
    "| -n   | --norm         | nomalise LOSVD                 | 1                           |\n",
    "| -d   | --dir          | path to directory with results | ../results                  |\n"
   ]
  },
  {
   "cell_type": "code",
   "execution_count": null,
   "metadata": {},
   "outputs": [],
   "source": [
    "run bayes_losvd_inspect_fits.py -r NGC4550_SAURON-SP -b 0"
   ]
  },
  {
   "cell_type": "markdown",
   "metadata": {},
   "source": [
    "## STEP 5: Load results into dictionary"
   ]
  },
  {
   "cell_type": "code",
   "execution_count": 2,
   "metadata": {},
   "outputs": [
    {
     "name": "stdout",
     "output_type": "stream",
     "text": [
      "\n",
      "\n",
      "[ \u001b[0;33mRUNNING \u001b[0;39m] Loading ../results/NGC4550_SAURON-SP/NGC4550_SAURON-SP_results.hdf5 data\n",
      "\n",
      "# Opening file\n",
      "\n",
      "# Loading input data:\n",
      " - binID\n",
      " - bin_flux\n",
      " - bin_snr\n",
      " - flux\n",
      " - lmax\n",
      " - lmin\n",
      " - lwave_temp\n",
      " - mask\n",
      " - mean_template\n",
      " - nbins\n",
      " - ndim\n",
      " - nmask\n",
      " - npix\n",
      " - npix_obs\n",
      " - npix_temp\n",
      " - nspec\n",
      " - ntemp\n",
      " - nvel\n",
      " - porder\n",
      " - sigma_obs\n",
      " - snr\n",
      " - spec_obs\n",
      " - templates\n",
      " - velscale\n",
      " - wave\n",
      " - wave_obs\n",
      " - x\n",
      " - xbin\n",
      " - xvel\n",
      " - y\n",
      " - ybin\n",
      "\n",
      "# Loading Stan results:\n",
      " - [0] bestfit\n",
      " - [0] coefs\n",
      " - [0] conv_spec\n",
      " - [0] log_likelihood\n",
      " - [0] losvd\n",
      " - [0] poly\n",
      " - [0] sigma\n",
      " - [0] spec\n",
      " - [0] spec_pred\n",
      " - [0] weights\n",
      "\n",
      "\n",
      "[ \u001b[0;32mDONE \u001b[0;39m] \n",
      "\n"
     ]
    }
   ],
   "source": [
    "from bayes_losvd_load_results import load_results\n",
    "tab = load_results(\"../results/NGC4550_SAURON-SP/NGC4550_SAURON-SP_results.hdf5\")"
   ]
  },
  {
   "cell_type": "markdown",
   "metadata": {},
   "source": [
    "## STEP 6: Run a GH fit to output LOSVD (optional)\n",
    "\n",
    "| Flag | Alt. flag       | Description                                  | Options and default values |\n",
    "|------|-----------------|----------------------------------------------|----------------------------|\n",
    "| -r   | --runname       | path to results file from bayes-losvd_run.py | No default                 |\n",
    "| -i   | --niter         | number of iterationsto run in Stan           |    1000       |\n",
    "| -c   | --nchain        | number of simultaneous chains to run in Stan |  1      |    \n",
    "| -b   | --bin           | bin IDs for spectra run                      |  all/odd/even/bin_list (comma separated bin list)      |    \n",
    "| -n   | --njobs         | number of jobs (spectra) to run in parallel  |   1     |    \n",
    "| -v   | --verbose       | printing Stan summary for each fit           | 0=False or 1=True, Default: 0       |    \n",
    "| -s   | --save_chains   | save chain results for each fit              | 0=False or 1=True, Default: 0       |    \n",
    "| -p   | --save_plots    | save diagnostic plots                        | 0=False or 1=True, Default: 0      |    \n",
    "| -a   | --adapt_delta   | Stan Adapt_delta                             |  0.99      |    \n",
    "| -d   | --max_treedepth | Stan maximum tree depth                      | 15 |   \n",
    "\n"
   ]
  },
  {
   "cell_type": "code",
   "execution_count": null,
   "metadata": {},
   "outputs": [],
   "source": [
    "run bayes_losvd_ghfit.py -r NGC4550_SAURON-SP -b 0 -v 1"
   ]
  },
  {
   "cell_type": "markdown",
   "metadata": {},
   "source": [
    "## STEP 7: Inspect GH fit results (optional)\n",
    "\n",
    "| Flag | Alt. flag      | Description                    | Options and default values  |\n",
    "|------|----------------|--------------------------------|-----------------------------|\n",
    "| -r   | --run          | run name with results          | No default                  |\n",
    "| -b   | --binID        | bin ID of the spectrum to plot | 0                           |\n",
    "| -l   | --losvd        | path to a LOSVD to add to plot | None                        |\n",
    "| -s   | --save         | save figure in results dir     | 0=False, 1=True, Default= 0 |\n",
    "| -n   | --norm         | nomalise LOSVD                 | 1                           |\n",
    "| -d   | --dir          | path to directory with results | ../results                  |\n"
   ]
  },
  {
   "cell_type": "code",
   "execution_count": null,
   "metadata": {},
   "outputs": [],
   "source": [
    "run bayes_losvd_inspect_ghfit.py -r NGC4550_SAURON-SP -b 0"
   ]
  },
  {
   "cell_type": "markdown",
   "metadata": {},
   "source": [
    "## STEP 5: Load results into dictionary"
   ]
  },
  {
   "cell_type": "code",
   "execution_count": 1,
   "metadata": {},
   "outputs": [
    {
     "name": "stdout",
     "output_type": "stream",
     "text": [
      "\n",
      "\n",
      "[ \u001b[0;33mRUNNING \u001b[0;39m] Loading ../results/NGC4550_SAURON-SP/NGC4550_SAURON-SP_gh_results.hdf5 data\n",
      "\n",
      "# Opening file\n",
      "\n",
      "# Loading input data:\n",
      " - binID\n",
      " - bin_flux\n",
      " - bin_snr\n",
      " - flux\n",
      " - lmax\n",
      " - lmin\n",
      " - lwave_temp\n",
      " - mask\n",
      " - mean_template\n",
      " - nbins\n",
      " - ndim\n",
      " - nmask\n",
      " - npix\n",
      " - npix_obs\n",
      " - npix_temp\n",
      " - nspec\n",
      " - ntemp\n",
      " - nvel\n",
      " - porder\n",
      " - sigma_obs\n",
      " - snr\n",
      " - spec_obs\n",
      " - templates\n",
      " - velscale\n",
      " - wave\n",
      " - wave_obs\n",
      " - x\n",
      " - xbin\n",
      " - xvel\n",
      " - y\n",
      " - ybin\n",
      "\n",
      "# Loading Stan results:\n",
      " - [0] bestfit\n",
      " - [0] coefs\n",
      " - [0] conv_spec\n",
      " - [0] gamma\n",
      " - [0] h3\n",
      " - [0] h4\n",
      " - [0] log_likelihood\n",
      " - [0] losvd\n",
      " - [0] losvd_gh_mod\n",
      " - [0] offset\n",
      " - [0] poly\n",
      " - [0] sigma\n",
      " - [0] spec\n",
      " - [0] spec_pred\n",
      " - [0] vdisp\n",
      " - [0] vel\n",
      " - [0] weights\n",
      "\n",
      "\n",
      "[ \u001b[0;32mDONE \u001b[0;39m] \n",
      "\n"
     ]
    }
   ],
   "source": [
    "from bayes_losvd_load_results import load_results\n",
    "tab = load_results(\"../results/NGC4550_SAURON-SP/NGC4550_SAURON-SP_gh_results.hdf5\")"
   ]
  },
  {
   "cell_type": "code",
   "execution_count": null,
   "metadata": {},
   "outputs": [],
   "source": []
  }
 ],
 "metadata": {
  "kernelspec": {
   "display_name": "Python 3",
   "language": "python",
   "name": "python3"
  },
  "language_info": {
   "codemirror_mode": {
    "name": "ipython",
    "version": 3
   },
   "file_extension": ".py",
   "mimetype": "text/x-python",
   "name": "python",
   "nbconvert_exporter": "python",
   "pygments_lexer": "ipython3",
   "version": "3.6.10"
  }
 },
 "nbformat": 4,
 "nbformat_minor": 4
}
